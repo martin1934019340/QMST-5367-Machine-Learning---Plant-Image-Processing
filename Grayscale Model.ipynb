{
 "cells": [
  {
   "cell_type": "markdown",
   "metadata": {},
   "source": [
    "# Greyscale Model for Leaf Image Classification Project"
   ]
  },
  {
   "cell_type": "markdown",
   "metadata": {},
   "source": [
    "### Load Packages and Images"
   ]
  },
  {
   "cell_type": "code",
   "execution_count": 1,
   "metadata": {},
   "outputs": [],
   "source": [
    "import numpy as np\n",
    "import pickle\n",
    "import cv2\n",
    "from os import listdir\n",
    "from sklearn.preprocessing import LabelBinarizer\n",
    "from keras.models import Sequential\n",
    "from keras.layers.normalization import BatchNormalization\n",
    "from keras.layers.convolutional import Conv2D\n",
    "from keras.layers.convolutional import MaxPooling2D\n",
    "from keras.layers.core import Activation, Flatten, Dropout, Dense\n",
    "from keras import backend as K\n",
    "from keras.preprocessing.image import ImageDataGenerator\n",
    "from keras.optimizers import Adam\n",
    "from keras.preprocessing import image\n",
    "from keras.preprocessing.image import img_to_array\n",
    "from sklearn.preprocessing import MultiLabelBinarizer\n",
    "from sklearn.model_selection import train_test_split\n",
    "import matplotlib.pyplot as plt\n",
    "from PIL import Image, ImageOps\n",
    "\n",
    "from tensorflow import keras\n",
    "import random"
   ]
  },
  {
   "cell_type": "code",
   "execution_count": 2,
   "metadata": {},
   "outputs": [],
   "source": [
    "EPOCHS = 2\n",
    "INIT_LR = 1e-3\n",
    "BS = 32\n",
    "default_image_size = tuple((256, 256))\n",
    "image_size = 0\n",
    "width=256\n",
    "height=256\n",
    "depth=1\n",
    "root_directory = r\"/Users/Shainan/Desktop/Leaf_Detection/data_all\""
   ]
  },
  {
   "cell_type": "code",
   "execution_count": 3,
   "metadata": {},
   "outputs": [],
   "source": [
    "def convert_image_to_array(image_dir):\n",
    "    try:\n",
    "        image = cv2.imread(image_dir)\n",
    "        image = cv2.cvtColor(image, cv2.COLOR_BGR2GRAY)\n",
    "        #image = Image.open(image_dir)\n",
    "        #image = ImageOps.grayscale(image)\n",
    "        if image is not None :\n",
    "            image = cv2.resize(image, default_image_size)   \n",
    "            return img_to_array(image)\n",
    "        else :\n",
    "            return np.array([])\n",
    "    except Exception as e:\n",
    "        print(f\"Error : {e}\")\n",
    "        return None"
   ]
  },
  {
   "cell_type": "code",
   "execution_count": 4,
   "metadata": {},
   "outputs": [
    {
     "name": "stdout",
     "output_type": "stream",
     "text": [
      "Loading images ...\n",
      "Image loading completed\n"
     ]
    }
   ],
   "source": [
    "image_list, label_list = [], []\n",
    "try:\n",
    "    print(\"Loading images ...\")\n",
    "\n",
    "    \n",
    "    #DIRECTORY 1\n",
    "    poison_ivy = \"poison_ivy\"\n",
    "    directory1 = root_directory + \"/\" + poison_ivy    \n",
    "    list_directory1 = listdir(directory1)\n",
    "    \n",
    "    for image in list_directory1[:200]:\n",
    "        image_directory1 = f\"{directory1}/{image}\"        \n",
    "        if image_directory1.endswith(\".jpg\") == True or image_directory1.endswith(\".JPG\") == True:\n",
    "            image_list.append(convert_image_to_array(image_directory1))\n",
    "            label_list.append(poison_ivy)\n",
    "\n",
    "    \n",
    "    #DIRECTORY 2\n",
    "    raspberry = \"raspberry\"\n",
    "    directory2 = root_directory + \"/\" + raspberry\n",
    "    list_directory2 = listdir(directory2)\n",
    "    \n",
    "    for image in list_directory2[:]:\n",
    "        image_directory2 = f\"{directory2}/{image}\"\n",
    "        if image_directory2.endswith(\".jpg\") == True or image_directory2.endswith(\".JPG\") == True:\n",
    "            image_list.append(convert_image_to_array(image_directory2))\n",
    "            label_list.append(raspberry)\n",
    "    \n",
    "    \n",
    "    #DIRECTORY 3\n",
    "    potato = \"potato\"\n",
    "    directory3 = root_directory + \"/\" + potato\n",
    "    list_directory3 = listdir(directory3)\n",
    "    \n",
    "    for image in list_directory3[:]:\n",
    "        image_directory3 = f\"{directory3}/{image}\"\n",
    "        if image_directory3.endswith(\".jpg\") == True or image_directory3.endswith(\".JPG\") == True:\n",
    "            image_list.append(convert_image_to_array(image_directory3))\n",
    "            label_list.append(potato)\n",
    "    \n",
    "    \n",
    "    #DIRECTORY 4\n",
    "    tomato = \"tomato\"\n",
    "    directory4 = root_directory + \"/\" + tomato\n",
    "    list_directory4 = listdir(directory4)\n",
    "    \n",
    "    for image in list_directory4[:]:\n",
    "        image_directory4 = f\"{directory4}/{image}\"\n",
    "        if image_directory4.endswith(\".jpg\") == True or image_directory4.endswith(\".JPG\") == True:\n",
    "            image_list.append(convert_image_to_array(image_directory4))\n",
    "            label_list.append(tomato)\n",
    "            \n",
    "    #DIRECTORY 5\n",
    "    bell_pepper = \"bell_pepper\"\n",
    "    directory5 = root_directory + \"/\" + bell_pepper\n",
    "    list_directory5 = listdir(directory5)\n",
    "    \n",
    "    for image in list_directory5[:]:\n",
    "        image_directory5 = f\"{directory5}/{image}\"\n",
    "        if image_directory5.endswith(\".jpg\") == True or image_directory5.endswith(\".JPG\") == True:\n",
    "            image_list.append(convert_image_to_array(image_directory5))\n",
    "            label_list.append(bell_pepper)\n",
    "    \n",
    "    \n",
    "    print(\"Image loading completed\")\n",
    "except Exception as e:\n",
    "    print(f\"Error : {e}\")"
   ]
  },
  {
   "cell_type": "code",
   "execution_count": 5,
   "metadata": {},
   "outputs": [
    {
     "data": {
      "text/plain": [
       "1591"
      ]
     },
     "execution_count": 5,
     "metadata": {},
     "output_type": "execute_result"
    }
   ],
   "source": [
    "len(list_directory4)"
   ]
  },
  {
   "cell_type": "code",
   "execution_count": 6,
   "metadata": {},
   "outputs": [
    {
     "name": "stdout",
     "output_type": "stream",
     "text": [
      "3639\n"
     ]
    }
   ],
   "source": [
    "image_size = len(image_list)\n",
    "print(image_size)"
   ]
  },
  {
   "cell_type": "markdown",
   "metadata": {},
   "source": [
    "### Create and Build Model"
   ]
  },
  {
   "cell_type": "code",
   "execution_count": 7,
   "metadata": {},
   "outputs": [],
   "source": [
    "label_binarizer = LabelBinarizer()\n",
    "image_labels = label_binarizer.fit_transform(label_list)\n",
    "pickle.dump(label_binarizer, open('label_transform.pkl', 'wb'))\n",
    "n_classes = len(label_binarizer.classes_)"
   ]
  },
  {
   "cell_type": "code",
   "execution_count": 8,
   "metadata": {},
   "outputs": [
    {
     "name": "stdout",
     "output_type": "stream",
     "text": [
      "['bell_pepper' 'poison_ivy' 'potato' 'raspberry' 'tomato']\n",
      "5\n"
     ]
    }
   ],
   "source": [
    "print(label_binarizer.classes_)\n",
    "print(n_classes)"
   ]
  },
  {
   "cell_type": "code",
   "execution_count": 9,
   "metadata": {},
   "outputs": [],
   "source": [
    "np_image_list = np.array(image_list, dtype=np.float16)"
   ]
  },
  {
   "cell_type": "code",
   "execution_count": 10,
   "metadata": {},
   "outputs": [
    {
     "name": "stdout",
     "output_type": "stream",
     "text": [
      "Spliting data to train, test\n"
     ]
    }
   ],
   "source": [
    "print(\"Spliting data to train, test\")\n",
    "x_train, x_test, y_train, y_test = train_test_split(np_image_list, image_labels, test_size=0.2, random_state = 42) "
   ]
  },
  {
   "cell_type": "code",
   "execution_count": 11,
   "metadata": {},
   "outputs": [],
   "source": [
    "aug = ImageDataGenerator(\n",
    "    rotation_range=25, width_shift_range=0.1,\n",
    "    height_shift_range=0.1, shear_range=0.2, \n",
    "    zoom_range=0.2,horizontal_flip=True, \n",
    "    fill_mode=\"nearest\")"
   ]
  },
  {
   "cell_type": "code",
   "execution_count": 12,
   "metadata": {},
   "outputs": [],
   "source": [
    "model = Sequential()\n",
    "inputShape = (height, width, depth)\n",
    "chanDim = -1\n",
    "if K.image_data_format() == \"channels_first\":\n",
    "    inputShape = (depth, height, width)\n",
    "    chanDim = 1\n",
    "model.add(Conv2D(32, (3, 3), padding=\"same\",input_shape=inputShape))\n",
    "model.add(Activation(\"relu\"))\n",
    "model.add(BatchNormalization(axis=chanDim))\n",
    "model.add(MaxPooling2D(pool_size=(3, 3)))\n",
    "model.add(Dropout(0.25))\n",
    "model.add(Conv2D(64, (3, 3), padding=\"same\"))\n",
    "model.add(Activation(\"relu\"))\n",
    "model.add(BatchNormalization(axis=chanDim))\n",
    "model.add(Conv2D(64, (3, 3), padding=\"same\"))\n",
    "model.add(Activation(\"relu\"))\n",
    "model.add(BatchNormalization(axis=chanDim))\n",
    "model.add(MaxPooling2D(pool_size=(2, 2)))\n",
    "model.add(Dropout(0.25))\n",
    "model.add(Conv2D(128, (3, 3), padding=\"same\"))\n",
    "model.add(Activation(\"relu\"))\n",
    "model.add(BatchNormalization(axis=chanDim))\n",
    "model.add(Conv2D(128, (3, 3), padding=\"same\"))\n",
    "model.add(Activation(\"relu\"))\n",
    "model.add(BatchNormalization(axis=chanDim))\n",
    "model.add(MaxPooling2D(pool_size=(2, 2)))\n",
    "model.add(Dropout(0.25))\n",
    "model.add(Flatten())\n",
    "model.add(Dense(1024))\n",
    "model.add(Activation(\"relu\"))\n",
    "model.add(BatchNormalization())\n",
    "model.add(Dropout(0.5))\n",
    "model.add(Dense(n_classes))\n",
    "model.add(Activation(\"softmax\"))"
   ]
  },
  {
   "cell_type": "code",
   "execution_count": 13,
   "metadata": {},
   "outputs": [
    {
     "name": "stdout",
     "output_type": "stream",
     "text": [
      "Model: \"sequential\"\n",
      "_________________________________________________________________\n",
      "Layer (type)                 Output Shape              Param #   \n",
      "=================================================================\n",
      "conv2d (Conv2D)              (None, 256, 256, 32)      320       \n",
      "_________________________________________________________________\n",
      "activation (Activation)      (None, 256, 256, 32)      0         \n",
      "_________________________________________________________________\n",
      "batch_normalization (BatchNo (None, 256, 256, 32)      128       \n",
      "_________________________________________________________________\n",
      "max_pooling2d (MaxPooling2D) (None, 85, 85, 32)        0         \n",
      "_________________________________________________________________\n",
      "dropout (Dropout)            (None, 85, 85, 32)        0         \n",
      "_________________________________________________________________\n",
      "conv2d_1 (Conv2D)            (None, 85, 85, 64)        18496     \n",
      "_________________________________________________________________\n",
      "activation_1 (Activation)    (None, 85, 85, 64)        0         \n",
      "_________________________________________________________________\n",
      "batch_normalization_1 (Batch (None, 85, 85, 64)        256       \n",
      "_________________________________________________________________\n",
      "conv2d_2 (Conv2D)            (None, 85, 85, 64)        36928     \n",
      "_________________________________________________________________\n",
      "activation_2 (Activation)    (None, 85, 85, 64)        0         \n",
      "_________________________________________________________________\n",
      "batch_normalization_2 (Batch (None, 85, 85, 64)        256       \n",
      "_________________________________________________________________\n",
      "max_pooling2d_1 (MaxPooling2 (None, 42, 42, 64)        0         \n",
      "_________________________________________________________________\n",
      "dropout_1 (Dropout)          (None, 42, 42, 64)        0         \n",
      "_________________________________________________________________\n",
      "conv2d_3 (Conv2D)            (None, 42, 42, 128)       73856     \n",
      "_________________________________________________________________\n",
      "activation_3 (Activation)    (None, 42, 42, 128)       0         \n",
      "_________________________________________________________________\n",
      "batch_normalization_3 (Batch (None, 42, 42, 128)       512       \n",
      "_________________________________________________________________\n",
      "conv2d_4 (Conv2D)            (None, 42, 42, 128)       147584    \n",
      "_________________________________________________________________\n",
      "activation_4 (Activation)    (None, 42, 42, 128)       0         \n",
      "_________________________________________________________________\n",
      "batch_normalization_4 (Batch (None, 42, 42, 128)       512       \n",
      "_________________________________________________________________\n",
      "max_pooling2d_2 (MaxPooling2 (None, 21, 21, 128)       0         \n",
      "_________________________________________________________________\n",
      "dropout_2 (Dropout)          (None, 21, 21, 128)       0         \n",
      "_________________________________________________________________\n",
      "flatten (Flatten)            (None, 56448)             0         \n",
      "_________________________________________________________________\n",
      "dense (Dense)                (None, 1024)              57803776  \n",
      "_________________________________________________________________\n",
      "activation_5 (Activation)    (None, 1024)              0         \n",
      "_________________________________________________________________\n",
      "batch_normalization_5 (Batch (None, 1024)              4096      \n",
      "_________________________________________________________________\n",
      "dropout_3 (Dropout)          (None, 1024)              0         \n",
      "_________________________________________________________________\n",
      "dense_1 (Dense)              (None, 5)                 5125      \n",
      "_________________________________________________________________\n",
      "activation_6 (Activation)    (None, 5)                 0         \n",
      "=================================================================\n",
      "Total params: 58,091,845\n",
      "Trainable params: 58,088,965\n",
      "Non-trainable params: 2,880\n",
      "_________________________________________________________________\n"
     ]
    }
   ],
   "source": [
    "model.summary()"
   ]
  },
  {
   "cell_type": "code",
   "execution_count": 14,
   "metadata": {},
   "outputs": [
    {
     "name": "stdout",
     "output_type": "stream",
     "text": [
      "training network...\n"
     ]
    }
   ],
   "source": [
    "#OPTIMIZE AND REDUCE LOSS\n",
    "opt = Adam(lr=INIT_LR, decay=INIT_LR / EPOCHS)\n",
    "# distribution\n",
    "model.compile(loss=\"binary_crossentropy\", optimizer=opt, metrics=[\"accuracy\"])\n",
    "# train the network\n",
    "print(\"training network...\")"
   ]
  },
  {
   "cell_type": "code",
   "execution_count": 15,
   "metadata": {},
   "outputs": [
    {
     "name": "stdout",
     "output_type": "stream",
     "text": [
      "WARNING:tensorflow:From <ipython-input-15-22b0617efea0>:5: Model.fit_generator (from tensorflow.python.keras.engine.training) is deprecated and will be removed in a future version.\n",
      "Instructions for updating:\n",
      "Please use Model.fit, which supports generators.\n",
      "Epoch 1/10\n",
      "90/90 [==============================] - 175s 2s/step - loss: 0.1982 - accuracy: 0.8274 - val_loss: 2.7123 - val_accuracy: 0.3860\n",
      "Epoch 2/10\n",
      "90/90 [==============================] - 176s 2s/step - loss: 0.1079 - accuracy: 0.9083 - val_loss: 0.3479 - val_accuracy: 0.8324\n",
      "Epoch 3/10\n",
      "90/90 [==============================] - 210s 2s/step - loss: 0.0970 - accuracy: 0.9146 - val_loss: 0.4721 - val_accuracy: 0.7981\n",
      "Epoch 4/10\n",
      "90/90 [==============================] - 239s 3s/step - loss: 0.0739 - accuracy: 0.9284 - val_loss: 0.6989 - val_accuracy: 0.7184\n",
      "Epoch 5/10\n",
      "90/90 [==============================] - 216s 2s/step - loss: 0.0765 - accuracy: 0.9350 - val_loss: 0.2842 - val_accuracy: 0.8681\n",
      "Epoch 6/10\n",
      "90/90 [==============================] - 194s 2s/step - loss: 0.0601 - accuracy: 0.9476 - val_loss: 0.2083 - val_accuracy: 0.8929\n",
      "Epoch 7/10\n",
      "90/90 [==============================] - 188s 2s/step - loss: 0.0561 - accuracy: 0.9545 - val_loss: 0.2910 - val_accuracy: 0.8640\n",
      "Epoch 8/10\n",
      "90/90 [==============================] - 184s 2s/step - loss: 0.0495 - accuracy: 0.9535 - val_loss: 0.2312 - val_accuracy: 0.8613\n",
      "Epoch 9/10\n",
      "90/90 [==============================] - 185s 2s/step - loss: 0.0464 - accuracy: 0.9566 - val_loss: 0.4470 - val_accuracy: 0.8489\n",
      "Epoch 10/10\n",
      "90/90 [==============================] - 180s 2s/step - loss: 0.0474 - accuracy: 0.9580 - val_loss: 0.2924 - val_accuracy: 0.8654\n"
     ]
    }
   ],
   "source": [
    "history = model.fit_generator(\n",
    "    aug.flow(x_train, y_train, batch_size=BS),\n",
    "    validation_data=(x_test, y_test),\n",
    "    steps_per_epoch=len(x_train) // BS,\n",
    "    epochs=10, verbose=1\n",
    "    )"
   ]
  },
  {
   "cell_type": "markdown",
   "metadata": {},
   "source": [
    "### Plot Model Accuracy"
   ]
  },
  {
   "cell_type": "code",
   "execution_count": 16,
   "metadata": {},
   "outputs": [
    {
     "data": {
      "image/png": "[encoded data removed]",
      "text/plain": [
       "<Figure size 432x288 with 1 Axes>"
      ]
     },
     "metadata": {
      "needs_background": "light"
     },
     "output_type": "display_data"
    },
    {
     "data": {
      "image/png": "[encoded data removed]",
      "text/plain": [
       "<Figure size 432x288 with 1 Axes>"
      ]
     },
     "metadata": {
      "needs_background": "light"
     },
     "output_type": "display_data"
    }
   ],
   "source": [
    "acc = history.history['accuracy']\n",
    "val_acc = history.history['val_accuracy']\n",
    "loss = history.history['loss']\n",
    "val_loss = history.history['val_loss']\n",
    "epochs = range(1, len(acc) + 1)\n",
    "#Train and validation accuracy\n",
    "plt.plot(epochs, acc, 'b', label='Training accurarcy')\n",
    "plt.plot(epochs, val_acc, 'r', label='Validation accurarcy')\n",
    "plt.title('Training and Validation accurarcy')\n",
    "plt.legend()\n",
    "\n",
    "plt.figure()\n",
    "#Train and validation loss\n",
    "plt.plot(epochs, loss, 'b', label='Training loss')\n",
    "plt.plot(epochs, val_loss, 'r', label='Validation loss')\n",
    "plt.title('Training and Validation loss')\n",
    "plt.legend()\n",
    "plt.show()"
   ]
  },
  {
   "cell_type": "code",
   "execution_count": 17,
   "metadata": {},
   "outputs": [
    {
     "name": "stdout",
     "output_type": "stream",
     "text": [
      "Calculating model accuracy\n",
      "23/23 [==============================] - 8s 344ms/step - loss: 0.2924 - accuracy: 0.8654\n",
      "Test Accuracy: 86.53846383094788\n"
     ]
    }
   ],
   "source": [
    "print(\"Calculating model accuracy\")\n",
    "scores = model.evaluate(x_test, y_test)\n",
    "print(f\"Test Accuracy: {scores[1]*100}\")"
   ]
  },
  {
   "cell_type": "code",
   "execution_count": 19,
   "metadata": {},
   "outputs": [],
   "source": [
    "#SAVE MODEL\n",
    "model.save(root_directory + r\"/project_model.h5\")"
   ]
  },
  {
   "cell_type": "code",
   "execution_count": 20,
   "metadata": {},
   "outputs": [],
   "source": [
    "#LOAD MODEL\n",
    "model = keras.models.load_model(root_directory + r\"/project_model.h5\")"
   ]
  },
  {
   "cell_type": "markdown",
   "metadata": {},
   "source": [
    "### Predict Image Classification"
   ]
  },
  {
   "cell_type": "code",
   "execution_count": 21,
   "metadata": {},
   "outputs": [],
   "source": [
    "def choose_rand_image(directory):\n",
    "    image_pred5_list = listdir(directory)    \n",
    "    return (directory + '/' + random.choice(image_pred5_list))"
   ]
  },
  {
   "cell_type": "code",
   "execution_count": 22,
   "metadata": {},
   "outputs": [],
   "source": [
    "def pred_image(image):\n",
    "    im=convert_image_to_array(image)\n",
    "    np_image_li = np.array(im, dtype=np.float16)\n",
    "    npp_image = np.expand_dims(np_image_li, axis=0)\n",
    "    result=model.predict(npp_image)\n",
    "    \n",
    "    print(image)\n",
    "    print(result)\n",
    "    itemindex = np.where(result==np.max(result))\n",
    "    print(\"probability:\"+str(np.max(result))+\"\\n\"+label_binarizer.classes_[itemindex[1][0]])\n",
    "    print()\n",
    "    print()\n",
    "    return(result)"
   ]
  },
  {
   "cell_type": "code",
   "execution_count": 131,
   "metadata": {},
   "outputs": [],
   "source": [
    "image_pred1 = root_directory + r\"/!testdata/poison_ivy/IMG_4627.jpg\"\n",
    "image_pred2 = root_directory + r\"/!testdata/potato/ef7005dc-1d44-412e-b858-145a2d7a6fa9___RS_HL 1951.JPG\"\n",
    "image_pred3 = root_directory + r\"/!testdata/raspberry/IMG_4689.jpg\"\n",
    "image_pred4 = root_directory + r\"/!testdata/tomato/6da1cf1b-a236-4d45-a390-dac6b65c45f7___GH_HL Leaf 264.JPG\"\n",
    "image_pred5 = choose_rand_image(root_directory + r\"/!testdata/!random\")\n",
    "\n",
    "# print(image_pred5)\n",
    "# print(choose_rand_image(r\"C:\\Users\\marti\\Downloads\\data_all\\data_all\\!testdata\\!random\"))"
   ]
  },
  {
   "cell_type": "code",
   "execution_count": 132,
   "metadata": {},
   "outputs": [
    {
     "name": "stdout",
     "output_type": "stream",
     "text": [
      "/Users/shainan/Desktop/data_all//!testdata/poison_ivy/IMG_4627.jpg\n",
      "[[1.0730887e-03 2.4726259e-07 4.4462995e-06 9.9892223e-01]]\n",
      "probability:0.9989222\n",
      "tomato\n",
      "\n",
      "\n",
      "/Users/shainan/Desktop/data_all//!testdata/potato/ef7005dc-1d44-412e-b858-145a2d7a6fa9___RS_HL 1951.JPG\n",
      "[[4.1929598e-04 4.1448846e-08 2.1510248e-10 9.9958068e-01]]\n",
      "probability:0.9995807\n",
      "tomato\n",
      "\n",
      "\n",
      "/Users/shainan/Desktop/data_all//!testdata/raspberry/IMG_4689.jpg\n",
      "[[9.9939108e-01 1.7240792e-06 3.6283116e-05 5.7091512e-04]]\n",
      "probability:0.9993911\n",
      "poison_ivy\n",
      "\n",
      "\n",
      "/Users/shainan/Desktop/data_all//!testdata/tomato/6da1cf1b-a236-4d45-a390-dac6b65c45f7___GH_HL Leaf 264.JPG\n",
      "[[7.2218102e-01 9.4765259e-05 4.3442966e-03 2.7337986e-01]]\n",
      "probability:0.722181\n",
      "poison_ivy\n",
      "\n",
      "\n"
     ]
    }
   ],
   "source": [
    "pred_image(image_pred1);\n",
    "pred_image(image_pred2);\n",
    "pred_image(image_pred3);\n",
    "pred_image(image_pred4);"
   ]
  },
  {
   "cell_type": "code",
   "execution_count": 133,
   "metadata": {},
   "outputs": [
    {
     "name": "stdout",
     "output_type": "stream",
     "text": [
      "/Users/shainan/Desktop/data_all//!testdata/!random/6e583c78-1f36-4d5e-bc0e-24f3c76a2c1d___RS_HL 0284.JPG\n",
      "[[1.4234503e-13 4.7307452e-19 5.9926529e-24 1.0000000e+00]]\n",
      "probability:1.0\n",
      "tomato\n",
      "\n",
      "\n"
     ]
    }
   ],
   "source": [
    "#RANDOM PICTURE SELECTED AND PREDICTED\n",
    "image_pred5 = choose_rand_image(root_directory + r\"/!testdata/!random\")\n",
    "pred_image(image_pred5);"
   ]
  },
  {
   "cell_type": "code",
   "execution_count": 134,
   "metadata": {},
   "outputs": [
    {
     "name": "stdout",
     "output_type": "stream",
     "text": [
      "/Users/shainan/Desktop/data_all//!testdata/!random/IMG_4631.jpg\n",
      "[[9.9999988e-01 4.3425082e-08 2.1937231e-12 1.4731876e-07]]\n",
      "probability:0.9999999\n",
      "poison_ivy\n",
      "\n",
      "\n"
     ]
    }
   ],
   "source": [
    "#RANDOM PICTURE SELECTED AND PREDICTED\n",
    "image_pred5 = choose_rand_image(root_directory + r\"/!testdata/!random\")\n",
    "pred_image(image_pred5);"
   ]
  },
  {
   "cell_type": "code",
   "execution_count": 135,
   "metadata": {},
   "outputs": [
    {
     "name": "stdout",
     "output_type": "stream",
     "text": [
      "/Users/shainan/Desktop/data_all//!testdata/!random/f30983c0-6e20-43cc-8672-4622ca34c830___RS_HL 1949.JPG\n",
      "[[2.0533413e-09 2.2231021e-13 2.7098114e-16 1.0000000e+00]]\n",
      "probability:1.0\n",
      "tomato\n",
      "\n",
      "\n"
     ]
    }
   ],
   "source": [
    "#RANDOM PICTURE SELECTED AND PREDICTED\n",
    "image_pred5 = choose_rand_image(root_directory + r\"/!testdata/!random\")\n",
    "pred_image(image_pred5);"
   ]
  },
  {
   "cell_type": "code",
   "execution_count": 136,
   "metadata": {},
   "outputs": [
    {
     "name": "stdout",
     "output_type": "stream",
     "text": [
      "/Users/shainan/Desktop/data_all//!testdata/!random/IMG_4697.jpg\n",
      "[[9.9273634e-01 8.8754547e-05 2.7076353e-03 4.4673090e-03]]\n",
      "probability:0.99273634\n",
      "poison_ivy\n",
      "\n",
      "\n"
     ]
    }
   ],
   "source": [
    "#RANDOM PICTURE SELECTED AND PREDICTED\n",
    "image_pred5 = choose_rand_image(root_directory + r\"/!testdata/!random\")\n",
    "pred_image(image_pred5);"
   ]
  },
  {
   "cell_type": "code",
   "execution_count": 137,
   "metadata": {},
   "outputs": [],
   "source": [
    "labels = ['poison_ivy','tomato','raspberry']"
   ]
  },
  {
   "cell_type": "code",
   "execution_count": 138,
   "metadata": {},
   "outputs": [],
   "source": [
    "count = [label_list.count('poison_ivy'),label_list.count('tomato'),label_list.count('raspberry')]"
   ]
  },
  {
   "cell_type": "code",
   "execution_count": 139,
   "metadata": {},
   "outputs": [
    {
     "data": {
      "image/png": "[encoded data removed]",
      "text/plain": [
       "<Figure size 432x288 with 1 Axes>"
      ]
     },
     "metadata": {
      "needs_background": "light"
     },
     "output_type": "display_data"
    }
   ],
   "source": [
    "import seaborn as sns\n",
    "sns.barplot(labels, count)\n",
    "plt.show()"
   ]
  },
  {
   "cell_type": "code",
   "execution_count": null,
   "metadata": {},
   "outputs": [],
   "source": []
  },
  {
   "cell_type": "code",
   "execution_count": 147,
   "metadata": {},
   "outputs": [],
   "source": [
    "from PIL import Image, ImageOps\n",
    "     \n",
    "# creating a image1 object\n",
    "im1 = Image.open(r\"/Users/shainan/Desktop/data_all/poison_ivy/IMG_4187.JPG\")\n",
    "\n",
    "im1.show()\n",
    "\n",
    "# applying greyscale method\n",
    "im2 = ImageOps.grayscale(im1)\n",
    " \n",
    "im2.show()"
   ]
  },
  {
   "cell_type": "code",
   "execution_count": null,
   "metadata": {},
   "outputs": [],
   "source": []
  }
 ],
 "metadata": {
  "kernelspec": {
   "display_name": "Python 3",
   "language": "python",
   "name": "python3"
  },
  "language_info": {
   "codemirror_mode": {
    "name": "ipython",
    "version": 3
   },
   "file_extension": ".py",
   "mimetype": "text/x-python",
   "name": "python",
   "nbconvert_exporter": "python",
   "pygments_lexer": "ipython3",
   "version": "3.8.5"
  }
 },
 "nbformat": 4,
 "nbformat_minor": 2
}
